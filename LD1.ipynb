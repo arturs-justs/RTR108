{
 "cells": [
  {
   "cell_type": "markdown",
   "metadata": {},
   "source": [
    "# 1. laboratorijas darba (Teilora rindas) atskaite"
   ]
  },
  {
   "cell_type": "raw",
   "metadata": {},
   "source": [
    "# Turpinajumā es apraktīšu Teilora rindu būtību..."
   ]
  },
  {
   "cell_type": "code",
   "execution_count": 1,
   "metadata": {
    "scrolled": false
   },
   "outputs": [],
   "source": [
    "from math import sin"
   ]
  },
  {
   "cell_type": "code",
   "execution_count": 2,
   "metadata": {},
   "outputs": [
    {
     "name": "stdout",
     "output_type": "stream",
     "text": [
      "Lietotāj, lūdzu, ievadi argumentu (x): 2\n"
     ]
    }
   ],
   "source": [
    "x = float(input(\"Lietotāj, lūdzu, ievadi argumentu (x): \"))"
   ]
  },
  {
   "cell_type": "code",
   "execution_count": 3,
   "metadata": {},
   "outputs": [],
   "source": [
    "y = sin(x)"
   ]
  },
  {
   "cell_type": "code",
   "execution_count": 4,
   "metadata": {},
   "outputs": [
    {
     "name": "stdout",
     "output_type": "stream",
     "text": [
      "sin(2.00) = 0.91\n"
     ]
    }
   ],
   "source": [
    "print(\"sin(%.2f) = %.2f\"%(x,y))"
   ]
  },
  {
   "cell_type": "code",
   "execution_count": 5,
   "metadata": {},
   "outputs": [],
   "source": [
    "a0 = (-1)**0*x**1/(1)"
   ]
  },
  {
   "cell_type": "code",
   "execution_count": 6,
   "metadata": {},
   "outputs": [],
   "source": [
    "S0 = a0"
   ]
  },
  {
   "cell_type": "code",
   "execution_count": 7,
   "metadata": {},
   "outputs": [
    {
     "name": "stdout",
     "output_type": "stream",
     "text": [
      "a0 = 2.00 S0 = 2.00\n"
     ]
    }
   ],
   "source": [
    "print(\"a0 = %.2f S0 = %.2f\"%(a0,S0))"
   ]
  },
  {
   "cell_type": "code",
   "execution_count": 8,
   "metadata": {},
   "outputs": [
    {
     "name": "stdout",
     "output_type": "stream",
     "text": [
      "sin(2.00) = 0.91\n"
     ]
    }
   ],
   "source": [
    "y = sin(x)\n",
    "print(\"sin(%.2f) = %.2f\"%(x,y))"
   ]
  },
  {
   "cell_type": "code",
   "execution_count": 9,
   "metadata": {},
   "outputs": [
    {
     "name": "stdout",
     "output_type": "stream",
     "text": [
      "a0 = 2.00 S0 = 2.00\n"
     ]
    }
   ],
   "source": [
    "a0 = (-1)**0*x**1/(1)\n",
    "S0 = a0\n",
    "print(\"a0 = %.2f S0 = %.2f\"%(a0,S0))"
   ]
  },
  {
   "cell_type": "code",
   "execution_count": 10,
   "metadata": {},
   "outputs": [
    {
     "name": "stdout",
     "output_type": "stream",
     "text": [
      "a1 = -1.33 S1 = 0.67\n"
     ]
    }
   ],
   "source": [
    "a1 = (-1)**1*x**3/(1*2*3)\n",
    "S1 = a0 + a1\n",
    "print(\"a1 = %.2f S1 = %.2f\"%(a1,S1))"
   ]
  },
  {
   "cell_type": "code",
   "execution_count": 11,
   "metadata": {},
   "outputs": [
    {
     "name": "stdout",
     "output_type": "stream",
     "text": [
      "a2 = 0.27 S2 = 0.93\n"
     ]
    }
   ],
   "source": [
    "a2 = (-1)**2*x**5/(1*2*3*4*5)\n",
    "S2 = a0 + a1 + a2\n",
    "print(\"a2 = %.2f S2 = %.2f\"%(a2,S2))"
   ]
  },
  {
   "cell_type": "code",
   "execution_count": 12,
   "metadata": {},
   "outputs": [
    {
     "name": "stdout",
     "output_type": "stream",
     "text": [
      "a3 = -0.03 S3 = 0.91\n"
     ]
    }
   ],
   "source": [
    "a3 = (-1)**3*x**7/(1*2*3*4*5*6*7)\n",
    "S3 = a0 + a1 + a2 + a3\n",
    "print(\"a3 = %.2f S3 = %.2f\"%(a3,S3))"
   ]
  }
 ],
 "metadata": {
  "kernelspec": {
   "display_name": "Python 3",
   "language": "python",
   "name": "python3"
  },
  "language_info": {
   "codemirror_mode": {
    "name": "ipython",
    "version": 3
   },
   "file_extension": ".py",
   "mimetype": "text/x-python",
   "name": "python",
   "nbconvert_exporter": "python",
   "pygments_lexer": "ipython3",
   "version": "3.6.4"
  }
 },
 "nbformat": 4,
 "nbformat_minor": 2
}
